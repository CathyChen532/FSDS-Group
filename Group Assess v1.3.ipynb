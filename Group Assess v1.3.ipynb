{
 "cells": [
  {
   "cell_type": "code",
   "execution_count": 1,
   "id": "001a743e-80f6-4c15-a4b8-c02bf530797a",
   "metadata": {},
   "outputs": [],
   "source": [
    "%matplotlib inline\n",
    "\n",
    "import math\n",
    "\n",
    "import matplotlib as mpl\n",
    "import matplotlib.pyplot as plt\n",
    "import numpy as np\n",
    "import pandas as pd\n",
    "import geopandas as gpd\n",
    "\n",
    "import statsmodels.formula.api as smf\n",
    "import statsmodels\n",
    "\n",
    "import seaborn as sn"
   ]
  },
  {
   "cell_type": "code",
   "execution_count": 2,
   "id": "6055f9a2-e0fa-4bd1-a7a5-2a3d8ea40e63",
   "metadata": {},
   "outputs": [],
   "source": [
    "# read in Inside Airbnb dataframe\n",
    "df_2020 = pd.read_csv('2020IA.csv',low_memory=False)\n",
    "df_2022 = pd.read_csv('2022IA.csv',low_memory=False)"
   ]
  },
  {
   "cell_type": "code",
   "execution_count": 3,
   "id": "703113be-cd9b-4039-9510-eadc20e8f81b",
   "metadata": {},
   "outputs": [],
   "source": [
    "# pick the columns that we need\n",
    "df_2020_pick = df_2020.loc[:,['id', 'price', 'number_of_reviews_ltm','reviews_per_month']]\n",
    "df_2022_pick = df_2022.loc[:,['id', 'room_type', 'price','longitude', 'latitude', 'minimum_nights', 'reviews_per_month']]"
   ]
  },
  {
   "cell_type": "code",
   "execution_count": 12,
   "id": "888bad61-fa43-4085-ae54-73f5580d3a2c",
   "metadata": {},
   "outputs": [
    {
     "name": "stdout",
     "output_type": "stream",
     "text": [
      "Index(['id', 'price_2020', 'number_of_reviews_ltm_2020',\n",
      "       'reviews_per_month_2020'],\n",
      "      dtype='object')\n",
      "Index(['id', 'room_type', 'price_2022', 'longitude', 'latitude',\n",
      "       'minimum_nights', 'reviews_per_month_2022'],\n",
      "      dtype='object')\n"
     ]
    }
   ],
   "source": [
    "# rename the columns\n",
    "df_2020_rename = df_2020_pick.rename(columns = {'price':'price_2020',\n",
    "                                                'number_of_reviews_ltm':'number_of_reviews_ltm_2020',\n",
    "                                                'reviews_per_month':'reviews_per_month_2020'})\n",
    "df_2022_rename = df_2022_pick.rename(columns = {'price':'price_2022',\n",
    "                                                'reviews_per_month':'reviews_per_month_2022'})\n",
    "print(df_2020_rename.columns)\n",
    "print(df_2022_rename.columns)"
   ]
  },
  {
   "cell_type": "code",
   "execution_count": 13,
   "id": "029afcb2-a917-4541-b4af-379e64c59946",
   "metadata": {},
   "outputs": [],
   "source": [
    "# join dataframes\n",
    "df = pd.merge(df_2020_rename, df_2022_rename, how='inner', on=['id'])"
   ]
  },
  {
   "cell_type": "code",
   "execution_count": 14,
   "id": "becbdd66-726a-42c6-bfdc-0cd40642437f",
   "metadata": {},
   "outputs": [
    {
     "data": {
      "text/plain": [
       "id                            float64\n",
       "price_2020                    float64\n",
       "number_of_reviews_ltm_2020    float64\n",
       "reviews_per_month_2020        float64\n",
       "room_type                      object\n",
       "price_2022                      int64\n",
       "longitude                     float64\n",
       "latitude                      float64\n",
       "minimum_nights                  int64\n",
       "reviews_per_month_2022        float64\n",
       "dtype: object"
      ]
     },
     "execution_count": 14,
     "metadata": {},
     "output_type": "execute_result"
    }
   ],
   "source": [
    "#delete $ and change datatype\n",
    "df['price_2020'] = df['price_2020'].mask(df['price_2020'].str.contains('\\,')==True,df['price_2020'].str.replace(',',''))\n",
    "df['price_2020'] = df['price_2020'].str.split('$').str[1]\n",
    "df['price_2020'] = df['price_2020'].astype('float64')\n",
    "#df['number_of_reviews_ltm_2020'] = df['number_of_reviews_ltm_2020'].astype('float64')\n",
    "#df['reviews_per_month_2020'] = df['reviews_per_month_2020'].astype('float64')\n",
    "df.dtypes"
   ]
  },
  {
   "cell_type": "code",
   "execution_count": 15,
   "id": "be42fea0-a144-4ad8-ad08-e645e43be7b4",
   "metadata": {},
   "outputs": [],
   "source": [
    "# data cleaning\n",
    "df['reviews_per_month_2020'] = np.nan_to_num(df['reviews_per_month_2020'])\n",
    "df['reviews_per_month_2022'] = np.nan_to_num(df['reviews_per_month_2022'])\n",
    "df_cleaned = df[\n",
    "    (df[\"number_of_reviews_ltm_2020\"] != 0) & \n",
    "    (df[\"reviews_per_month_2020\"] != 0) & \n",
    "    (df[\"reviews_per_month_2022\"] != 0) & \n",
    "    (df[\"minimum_nights\"] <= 5)]"
   ]
  },
  {
   "cell_type": "code",
   "execution_count": 16,
   "id": "f4817d37-222f-4ea9-b0b6-73de12b24b5c",
   "metadata": {},
   "outputs": [],
   "source": [
    "# read in London sites dataframe\n",
    "df_sites = pd.read_csv('vva_site_listings_London_2021_02.csv')"
   ]
  },
  {
   "cell_type": "code",
   "execution_count": 17,
   "id": "a330f2ac-9807-4399-9fde-ad20021448ee",
   "metadata": {},
   "outputs": [],
   "source": [
    "# rename site columns\n",
    "df_sites_rename = df_sites.rename(columns = {'Visitors 2020':'visitors_2020','Visitors 2021':'visitors_2021'})"
   ]
  },
  {
   "cell_type": "code",
   "execution_count": 18,
   "id": "30416ad5-d3d5-4052-b907-7f03647c78a0",
   "metadata": {},
   "outputs": [
    {
     "name": "stdout",
     "output_type": "stream",
     "text": [
      "   Longitude   Latitude  visitors_2020 visitors_2021\n",
      "0  -0.295909  51.479362        1222956     1,963,171\n",
      "1  -0.176389  51.496111        1296763     1,571,413\n",
      "2  -0.126944  51.519444        1275466     1,327,120\n",
      "3  -0.099400  51.507600        1431704     1,156,037\n",
      "4  -0.117194  51.511028         724310       984,978\n"
     ]
    }
   ],
   "source": [
    "# pick the columns that we need\n",
    "df_sites_pick = df_sites_rename.loc[:,['Longitude','Latitude', 'visitors_2020','visitors_2021']]\n",
    "print(df_sites_pick.head())"
   ]
  },
  {
   "cell_type": "code",
   "execution_count": 19,
   "id": "4e11fb6d-79f5-4680-8712-39a3fc8b98ab",
   "metadata": {},
   "outputs": [],
   "source": [
    "df_sites_pick['visitors_2021'] = df_sites_pick['visitors_2021'].str.replace('$','', regex=True).replace(',','', regex=True).astype('float64')\n",
    "df_sites_pick['visitors_2020'] = df_sites_pick['visitors_2020'].astype('float64')"
   ]
  },
  {
   "cell_type": "code",
   "execution_count": 21,
   "id": "89234483-2f69-4288-9df1-edd640233c49",
   "metadata": {},
   "outputs": [
    {
     "name": "stdout",
     "output_type": "stream",
     "text": [
      "   house_index       id  price_2020  number_of_reviews_ltm_2020  \\\n",
      "0            0  15400.0        75.0                         3.0   \n",
      "1            1  17402.0       208.0                         1.0   \n",
      "4            2  33332.0        65.0                         1.0   \n",
      "5            3  36299.0       195.0                         4.0   \n",
      "6            4  36660.0        72.0                        19.0   \n",
      "\n",
      "   reviews_per_month_2020        room_type  price_2022  longitude  latitude  \\\n",
      "0                    0.68  Entire home/apt          75   -0.16813  51.48780   \n",
      "1                    0.37  Entire home/apt         307   -0.14094  51.52195   \n",
      "4                    0.05     Private room          65   -0.32554  51.46416   \n",
      "5                    0.64  Entire home/apt         195   -0.28086  51.48085   \n",
      "6                    4.36     Private room          72   -0.16057  51.58478   \n",
      "\n",
      "   minimum_nights  reviews_per_month_2022  \n",
      "0               3                    0.60  \n",
      "1               4                    0.34  \n",
      "4               2                    0.09  \n",
      "5               3                    0.64  \n",
      "6               2                    3.93  \n",
      "   site_index  Longitude   Latitude  visitors_2020  visitors_2021\n",
      "0           0  -0.295909  51.479362      1222956.0      1963171.0\n",
      "1           1  -0.176389  51.496111      1296763.0      1571413.0\n",
      "2           2  -0.126944  51.519444      1275466.0      1327120.0\n",
      "3           3  -0.099400  51.507600      1431704.0      1156037.0\n",
      "4           4  -0.117194  51.511028       724310.0       984978.0\n"
     ]
    }
   ],
   "source": [
    "# Add index number\n",
    "df_cleaned.insert(0, 'house_index', range(0, len(df_cleaned)))\n",
    "df_sites_pick.insert(0, 'site_index', range(0, len(df_sites_pick)))\n",
    "print(df_cleaned.head())\n",
    "print(df_sites_pick.head())"
   ]
  },
  {
   "cell_type": "code",
   "execution_count": 23,
   "id": "16ea56ff-f172-4ec5-8264-77d67710d498",
   "metadata": {},
   "outputs": [
    {
     "name": "stdout",
     "output_type": "stream",
     "text": [
      "0    POINT (527284.576 178129.679)\n",
      "1    POINT (529075.790 181974.865)\n",
      "2    POINT (516416.338 175239.086)\n",
      "3    POINT (519476.347 177167.001)\n",
      "4    POINT (527538.280 188927.439)\n",
      "Name: geometry, dtype: geometry\n",
      "0    POINT (518435.241 176977.100)\n",
      "1    POINT (526688.169 179039.579)\n",
      "2    POINT (530053.870 181720.949)\n",
      "3    POINT (531998.990 180453.132)\n",
      "4    POINT (530754.373 180802.421)\n",
      "Name: geometry, dtype: geometry\n"
     ]
    }
   ],
   "source": [
    "#Dealing with Geo Data of sites\n",
    "\n",
    "gdf_houses = gpd.GeoDataFrame(geometry=gpd.points_from_xy(df_cleaned.longitude, df_cleaned.latitude, crs='epsg:4326'))\n",
    "gdf_houses = gdf_houses.geometry.to_crs('epsg:27700')\n",
    "print(gdf_houses.head())\n",
    "\n",
    "gdf_sites = gpd.GeoDataFrame(geometry=gpd.points_from_xy(df_sites_pick.Longitude, df_sites_pick.Latitude, crs='epsg:4326'))\n",
    "gdf_sites = gdf_sites.geometry.to_crs('epsg:27700')\n",
    "print(gdf_sites.head())"
   ]
  },
  {
   "cell_type": "code",
   "execution_count": 24,
   "id": "afee69d0-f588-46d1-8c62-763d0ab509f7",
   "metadata": {},
   "outputs": [
    {
     "name": "stdout",
     "output_type": "stream",
     "text": [
      "   house_index  site_index           d\n",
      "0            0           6  991.456024\n",
      "1            0          28  484.940720\n",
      "2            1          41  517.875515\n",
      "3            1          51  434.722553\n",
      "4            3          36  138.253958\n"
     ]
    }
   ],
   "source": [
    "# calculate number of sites aroud houses and the distance between them\n",
    "list1 = []\n",
    "list2 = []\n",
    "list3 = []\n",
    "for i in range(0,len(gdf_houses)):\n",
    "    #(x1,y1) is the coordinate of houses\n",
    "    x1=gdf_houses.x[i]\n",
    "    y1=gdf_houses.y[i]\n",
    "    r=1000 #radius 1km\n",
    "    count=0\n",
    "    for j in range(0,len(gdf_sites)):\n",
    "        #(x2,y2) is the coordinate of sites\n",
    "        x2=gdf_sites.x[j]\n",
    "        y2=gdf_sites.y[j]\n",
    "        d=pow(pow(x1-x2,2)+pow(y1-y2,2),0.5)\n",
    "        if d<r:\n",
    "            count+=1\n",
    "\n",
    "            list1.append(i)\n",
    "            list2.append(j)\n",
    "            list3.append(d)\n",
    "            df_dis = pd.DataFrame({'house_index':list1,'site_index':list2,'d':list3})\n",
    "print(df_dis.head())"
   ]
  },
  {
   "cell_type": "code",
   "execution_count": 49,
   "id": "38837eea-2d24-49d0-ab23-c232f551f216",
   "metadata": {},
   "outputs": [
    {
     "name": "stdout",
     "output_type": "stream",
     "text": [
      "   house_index  site_index           d  price_2020  price_2022  \\\n",
      "0            0           6  991.456024        75.0          75   \n",
      "1            0          28  484.940720        75.0          75   \n",
      "2            1          41  517.875515       208.0         307   \n",
      "3            1          51  434.722553       208.0         307   \n",
      "4            3          36  138.253958       195.0         195   \n",
      "\n",
      "   number_of_reviews_ltm_2020  reviews_per_month_2020  reviews_per_month_2022  \\\n",
      "0                         3.0                    0.68                    0.60   \n",
      "1                         3.0                    0.68                    0.60   \n",
      "2                         1.0                    0.37                    0.34   \n",
      "3                         1.0                    0.37                    0.34   \n",
      "4                         4.0                    0.64                    0.64   \n",
      "\n",
      "   visitors_2020  visitors_2021  \n",
      "0       872750.0       857742.0  \n",
      "1        37965.0        53314.0  \n",
      "2         6848.0         8388.0  \n",
      "3           40.0         2000.0  \n",
      "4        22603.0        20512.0  \n"
     ]
    }
   ],
   "source": [
    "# final dataframe\n",
    "df_dis_houses = pd.merge(df_dis, df_cleaned, how='left', on=['house_index'])\n",
    "df_dis_houses_sites = pd.merge(df_dis_houses, df_sites_pick, how='left', on=['site_index'])\n",
    "df_dis_houses_sites_pick = df_dis_houses_sites.loc[:,['house_index', 'site_index', 'd',\n",
    "                                                      'price_2020','price_2022','number_of_reviews_ltm_2020',\n",
    "                                                      'reviews_per_month_2020','reviews_per_month_2022',\n",
    "                                                      'visitors_2020','visitors_2021']]\n",
    "print(df_dis_houses_sites_pick.head())"
   ]
  },
  {
   "cell_type": "code",
   "execution_count": 50,
   "id": "7987c6ad-b478-4b44-bd6d-ea52934ee0b1",
   "metadata": {},
   "outputs": [
    {
     "name": "stdout",
     "output_type": "stream",
     "text": [
      "            d  price_2020  price_2022  number_of_reviews_ltm_2020  \\\n",
      "0  484.940720        75.0          75                         3.0   \n",
      "1  434.722553       208.0         307                         1.0   \n",
      "2  138.253958       195.0         195                         4.0   \n",
      "3  806.850772        42.0         150                         2.0   \n",
      "4  658.957941        69.0          79                         4.0   \n",
      "\n",
      "   reviews_per_month_2020  reviews_per_month_2022  visitors_2020  \\\n",
      "0                    0.68                    0.60        37965.0   \n",
      "1                    0.37                    0.34           40.0   \n",
      "2                    0.64                    0.64        22603.0   \n",
      "3                    0.63                    0.54         3072.0   \n",
      "4                    0.79                    0.65      1431704.0   \n",
      "\n",
      "   visitors_2021  cnt  \n",
      "0        53314.0    2  \n",
      "1         2000.0    2  \n",
      "2        20512.0    1  \n",
      "3         4159.0    1  \n",
      "4      1156037.0    3  \n"
     ]
    }
   ],
   "source": [
    "#find min(d) and cnt(sites)\n",
    "df_index_d = df_dis_houses_sites_pick.loc[:,['house_index','d']]\n",
    "df_min_d = df_index_d.groupby(['house_index'],as_index=False).min()\n",
    "df_cnt_sites = df_index_d.groupby(['house_index'],as_index=False).count()\n",
    "df_cnt_sites_rename = df_cnt_sites.rename(columns = {'d':'cnt'})\n",
    "\n",
    "\n",
    "df_min_d_merge = pd.merge(df_dis_houses_sites_pick, df_min_d, how='right', on=['d'])\n",
    "df_min_d_merge_rename = df_min_d_merge.rename(columns = {'house_index_x':'house_index'})\n",
    "df_cnt_merge = pd.merge(df_min_d_merge_rename, df_cnt_sites_rename, how='right', on=['house_index'])\n",
    "\n",
    "\n",
    "df_final = df_cnt_merge.loc[:,['d', 'price_2020', 'price_2022', 'number_of_reviews_ltm_2020',\n",
    "                               'reviews_per_month_2020', 'reviews_per_month_2022',\n",
    "                               'visitors_2020','visitors_2021','cnt']]\n",
    "print(df_final.head())"
   ]
  },
  {
   "cell_type": "code",
   "execution_count": 51,
   "id": "1e1d320b-f876-4727-885c-74dc7a9573b4",
   "metadata": {},
   "outputs": [
    {
     "data": {
      "text/plain": [
       "(4441, 9)"
      ]
     },
     "execution_count": 51,
     "metadata": {},
     "output_type": "execute_result"
    }
   ],
   "source": [
    "# print the shape of the DataFrame\n",
    "df_final.shape"
   ]
  },
  {
   "cell_type": "code",
   "execution_count": 52,
   "id": "d45a802b-ad1c-4009-8779-167f4aa47699",
   "metadata": {},
   "outputs": [
    {
     "data": {
      "text/html": [
       "<div>\n",
       "<style scoped>\n",
       "    .dataframe tbody tr th:only-of-type {\n",
       "        vertical-align: middle;\n",
       "    }\n",
       "\n",
       "    .dataframe tbody tr th {\n",
       "        vertical-align: top;\n",
       "    }\n",
       "\n",
       "    .dataframe thead th {\n",
       "        text-align: right;\n",
       "    }\n",
       "</style>\n",
       "<table border=\"1\" class=\"dataframe\">\n",
       "  <thead>\n",
       "    <tr style=\"text-align: right;\">\n",
       "      <th></th>\n",
       "      <th>d</th>\n",
       "      <th>price_2020</th>\n",
       "      <th>price_2022</th>\n",
       "      <th>number_of_reviews_ltm_2020</th>\n",
       "      <th>reviews_per_month_2020</th>\n",
       "      <th>reviews_per_month_2022</th>\n",
       "      <th>visitors_2020</th>\n",
       "      <th>visitors_2021</th>\n",
       "      <th>cnt</th>\n",
       "    </tr>\n",
       "  </thead>\n",
       "  <tbody>\n",
       "    <tr>\n",
       "      <th>0</th>\n",
       "      <td>0.474289</td>\n",
       "      <td>0.003329</td>\n",
       "      <td>0.003869</td>\n",
       "      <td>0.005814</td>\n",
       "      <td>0.032549</td>\n",
       "      <td>0.023043</td>\n",
       "      <td>0.026517</td>\n",
       "      <td>0.027131</td>\n",
       "      <td>0.090909</td>\n",
       "    </tr>\n",
       "    <tr>\n",
       "      <th>1</th>\n",
       "      <td>0.423030</td>\n",
       "      <td>0.010470</td>\n",
       "      <td>0.017678</td>\n",
       "      <td>0.000000</td>\n",
       "      <td>0.017026</td>\n",
       "      <td>0.012714</td>\n",
       "      <td>0.000028</td>\n",
       "      <td>0.000992</td>\n",
       "      <td>0.090909</td>\n",
       "    </tr>\n",
       "    <tr>\n",
       "      <th>2</th>\n",
       "      <td>0.120418</td>\n",
       "      <td>0.009772</td>\n",
       "      <td>0.011011</td>\n",
       "      <td>0.008721</td>\n",
       "      <td>0.030546</td>\n",
       "      <td>0.024632</td>\n",
       "      <td>0.015787</td>\n",
       "      <td>0.010422</td>\n",
       "      <td>0.000000</td>\n",
       "    </tr>\n",
       "    <tr>\n",
       "      <th>3</th>\n",
       "      <td>0.802869</td>\n",
       "      <td>0.001557</td>\n",
       "      <td>0.008333</td>\n",
       "      <td>0.002907</td>\n",
       "      <td>0.030045</td>\n",
       "      <td>0.020660</td>\n",
       "      <td>0.002146</td>\n",
       "      <td>0.002092</td>\n",
       "      <td>0.000000</td>\n",
       "    </tr>\n",
       "    <tr>\n",
       "      <th>4</th>\n",
       "      <td>0.651912</td>\n",
       "      <td>0.003007</td>\n",
       "      <td>0.004107</td>\n",
       "      <td>0.008721</td>\n",
       "      <td>0.038057</td>\n",
       "      <td>0.025030</td>\n",
       "      <td>1.000000</td>\n",
       "      <td>0.588851</td>\n",
       "      <td>0.181818</td>\n",
       "    </tr>\n",
       "  </tbody>\n",
       "</table>\n",
       "</div>"
      ],
      "text/plain": [
       "          d  price_2020  price_2022  number_of_reviews_ltm_2020  \\\n",
       "0  0.474289    0.003329    0.003869                    0.005814   \n",
       "1  0.423030    0.010470    0.017678                    0.000000   \n",
       "2  0.120418    0.009772    0.011011                    0.008721   \n",
       "3  0.802869    0.001557    0.008333                    0.002907   \n",
       "4  0.651912    0.003007    0.004107                    0.008721   \n",
       "\n",
       "   reviews_per_month_2020  reviews_per_month_2022  visitors_2020  \\\n",
       "0                0.032549                0.023043       0.026517   \n",
       "1                0.017026                0.012714       0.000028   \n",
       "2                0.030546                0.024632       0.015787   \n",
       "3                0.030045                0.020660       0.002146   \n",
       "4                0.038057                0.025030       1.000000   \n",
       "\n",
       "   visitors_2021       cnt  \n",
       "0       0.027131  0.090909  \n",
       "1       0.000992  0.090909  \n",
       "2       0.010422  0.000000  \n",
       "3       0.002092  0.000000  \n",
       "4       0.588851  0.181818  "
      ]
     },
     "execution_count": 52,
     "metadata": {},
     "output_type": "execute_result"
    }
   ],
   "source": [
    "#Data standardisation\n",
    "\n",
    "from sklearn.preprocessing import MinMaxScaler\n",
    "mms = MinMaxScaler()\n",
    "\n",
    "df_standardised = df_final.copy()\n",
    "for c in df_final.columns.values:\n",
    "    df_standardised[c] = mms.fit_transform(df_final[c].values.reshape(-1,1))\n",
    "df_standardised.head()"
   ]
  },
  {
   "cell_type": "code",
   "execution_count": 53,
   "id": "fa1e2175-1d5e-448c-9bd9-4f569f76e943",
   "metadata": {},
   "outputs": [
    {
     "data": {
      "text/plain": [
       "<AxesSubplot:xlabel='cnt', ylabel='visitors_2021'>"
      ]
     },
     "execution_count": 53,
     "metadata": {},
     "output_type": "execute_result"
    },
    {
     "data": {
      "image/png": "[encoded data removed]",
      "text/plain": [
       "<Figure size 1152x576 with 8 Axes>"
      ]
     },
     "metadata": {
      "needs_background": "light"
     },
     "output_type": "display_data"
    }
   ],
   "source": [
    "# visualize the relationship between the features and the response using scatterplots\n",
    "fig, axs = plt.subplots(1, 8, sharey=True)\n",
    "df_standardised.plot(kind='scatter', x='d', y='visitors_2021', ax=axs[0], figsize=(16, 8))\n",
    "df_standardised.plot(kind='scatter', x='price_2020', y='visitors_2021', ax=axs[1])\n",
    "df_standardised.plot(kind='scatter', x='price_2022', y='visitors_2021', ax=axs[2])\n",
    "df_standardised.plot(kind='scatter', x='number_of_reviews_ltm_2020', y='visitors_2021', ax=axs[3])\n",
    "df_standardised.plot(kind='scatter', x='reviews_per_month_2020', y='visitors_2021', ax=axs[4])\n",
    "df_standardised.plot(kind='scatter', x='reviews_per_month_2022', y='visitors_2021', ax=axs[5])\n",
    "df_standardised.plot(kind='scatter', x='visitors_2020', y='visitors_2021', ax=axs[6])\n",
    "df_standardised.plot(kind='scatter', x='cnt', y='visitors_2021', ax=axs[7])"
   ]
  },
  {
   "cell_type": "code",
   "execution_count": 54,
   "id": "ec31e78a-117e-46f1-8a60-eebb8e50bd74",
   "metadata": {},
   "outputs": [
    {
     "data": {
      "text/html": [
       "<div>\n",
       "<style scoped>\n",
       "    .dataframe tbody tr th:only-of-type {\n",
       "        vertical-align: middle;\n",
       "    }\n",
       "\n",
       "    .dataframe tbody tr th {\n",
       "        vertical-align: top;\n",
       "    }\n",
       "\n",
       "    .dataframe thead th {\n",
       "        text-align: right;\n",
       "    }\n",
       "</style>\n",
       "<table border=\"1\" class=\"dataframe\">\n",
       "  <thead>\n",
       "    <tr style=\"text-align: right;\">\n",
       "      <th></th>\n",
       "      <th>d</th>\n",
       "      <th>price_2020</th>\n",
       "      <th>price_2022</th>\n",
       "      <th>number_of_reviews_ltm_2020</th>\n",
       "      <th>reviews_per_month_2020</th>\n",
       "      <th>reviews_per_month_2022</th>\n",
       "      <th>visitors_2020</th>\n",
       "      <th>visitors_2021</th>\n",
       "      <th>cnt</th>\n",
       "    </tr>\n",
       "  </thead>\n",
       "  <tbody>\n",
       "    <tr>\n",
       "      <th>d</th>\n",
       "      <td>1.000000</td>\n",
       "      <td>-0.008681</td>\n",
       "      <td>-0.026139</td>\n",
       "      <td>-0.066597</td>\n",
       "      <td>-0.047365</td>\n",
       "      <td>-0.012238</td>\n",
       "      <td>-0.050751</td>\n",
       "      <td>0.009878</td>\n",
       "      <td>-0.529954</td>\n",
       "    </tr>\n",
       "    <tr>\n",
       "      <th>price_2020</th>\n",
       "      <td>-0.008681</td>\n",
       "      <td>1.000000</td>\n",
       "      <td>0.129939</td>\n",
       "      <td>-0.051148</td>\n",
       "      <td>-0.060773</td>\n",
       "      <td>-0.047025</td>\n",
       "      <td>0.016716</td>\n",
       "      <td>0.016512</td>\n",
       "      <td>0.025775</td>\n",
       "    </tr>\n",
       "    <tr>\n",
       "      <th>price_2022</th>\n",
       "      <td>-0.026139</td>\n",
       "      <td>0.129939</td>\n",
       "      <td>1.000000</td>\n",
       "      <td>-0.069727</td>\n",
       "      <td>-0.066625</td>\n",
       "      <td>-0.056865</td>\n",
       "      <td>0.038124</td>\n",
       "      <td>0.027456</td>\n",
       "      <td>0.086881</td>\n",
       "    </tr>\n",
       "    <tr>\n",
       "      <th>number_of_reviews_ltm_2020</th>\n",
       "      <td>-0.066597</td>\n",
       "      <td>-0.051148</td>\n",
       "      <td>-0.069727</td>\n",
       "      <td>1.000000</td>\n",
       "      <td>0.836122</td>\n",
       "      <td>0.650642</td>\n",
       "      <td>-0.057437</td>\n",
       "      <td>-0.061067</td>\n",
       "      <td>0.013411</td>\n",
       "    </tr>\n",
       "    <tr>\n",
       "      <th>reviews_per_month_2020</th>\n",
       "      <td>-0.047365</td>\n",
       "      <td>-0.060773</td>\n",
       "      <td>-0.066625</td>\n",
       "      <td>0.836122</td>\n",
       "      <td>1.000000</td>\n",
       "      <td>0.742786</td>\n",
       "      <td>-0.019683</td>\n",
       "      <td>-0.022189</td>\n",
       "      <td>0.002405</td>\n",
       "    </tr>\n",
       "    <tr>\n",
       "      <th>reviews_per_month_2022</th>\n",
       "      <td>-0.012238</td>\n",
       "      <td>-0.047025</td>\n",
       "      <td>-0.056865</td>\n",
       "      <td>0.650642</td>\n",
       "      <td>0.742786</td>\n",
       "      <td>1.000000</td>\n",
       "      <td>-0.030383</td>\n",
       "      <td>-0.025614</td>\n",
       "      <td>0.012632</td>\n",
       "    </tr>\n",
       "    <tr>\n",
       "      <th>visitors_2020</th>\n",
       "      <td>-0.050751</td>\n",
       "      <td>0.016716</td>\n",
       "      <td>0.038124</td>\n",
       "      <td>-0.057437</td>\n",
       "      <td>-0.019683</td>\n",
       "      <td>-0.030383</td>\n",
       "      <td>1.000000</td>\n",
       "      <td>0.962047</td>\n",
       "      <td>0.249574</td>\n",
       "    </tr>\n",
       "    <tr>\n",
       "      <th>visitors_2021</th>\n",
       "      <td>0.009878</td>\n",
       "      <td>0.016512</td>\n",
       "      <td>0.027456</td>\n",
       "      <td>-0.061067</td>\n",
       "      <td>-0.022189</td>\n",
       "      <td>-0.025614</td>\n",
       "      <td>0.962047</td>\n",
       "      <td>1.000000</td>\n",
       "      <td>0.144077</td>\n",
       "    </tr>\n",
       "    <tr>\n",
       "      <th>cnt</th>\n",
       "      <td>-0.529954</td>\n",
       "      <td>0.025775</td>\n",
       "      <td>0.086881</td>\n",
       "      <td>0.013411</td>\n",
       "      <td>0.002405</td>\n",
       "      <td>0.012632</td>\n",
       "      <td>0.249574</td>\n",
       "      <td>0.144077</td>\n",
       "      <td>1.000000</td>\n",
       "    </tr>\n",
       "  </tbody>\n",
       "</table>\n",
       "</div>"
      ],
      "text/plain": [
       "                                   d  price_2020  price_2022  \\\n",
       "d                           1.000000   -0.008681   -0.026139   \n",
       "price_2020                 -0.008681    1.000000    0.129939   \n",
       "price_2022                 -0.026139    0.129939    1.000000   \n",
       "number_of_reviews_ltm_2020 -0.066597   -0.051148   -0.069727   \n",
       "reviews_per_month_2020     -0.047365   -0.060773   -0.066625   \n",
       "reviews_per_month_2022     -0.012238   -0.047025   -0.056865   \n",
       "visitors_2020              -0.050751    0.016716    0.038124   \n",
       "visitors_2021               0.009878    0.016512    0.027456   \n",
       "cnt                        -0.529954    0.025775    0.086881   \n",
       "\n",
       "                            number_of_reviews_ltm_2020  \\\n",
       "d                                            -0.066597   \n",
       "price_2020                                   -0.051148   \n",
       "price_2022                                   -0.069727   \n",
       "number_of_reviews_ltm_2020                    1.000000   \n",
       "reviews_per_month_2020                        0.836122   \n",
       "reviews_per_month_2022                        0.650642   \n",
       "visitors_2020                                -0.057437   \n",
       "visitors_2021                                -0.061067   \n",
       "cnt                                           0.013411   \n",
       "\n",
       "                            reviews_per_month_2020  reviews_per_month_2022  \\\n",
       "d                                        -0.047365               -0.012238   \n",
       "price_2020                               -0.060773               -0.047025   \n",
       "price_2022                               -0.066625               -0.056865   \n",
       "number_of_reviews_ltm_2020                0.836122                0.650642   \n",
       "reviews_per_month_2020                    1.000000                0.742786   \n",
       "reviews_per_month_2022                    0.742786                1.000000   \n",
       "visitors_2020                            -0.019683               -0.030383   \n",
       "visitors_2021                            -0.022189               -0.025614   \n",
       "cnt                                       0.002405                0.012632   \n",
       "\n",
       "                            visitors_2020  visitors_2021       cnt  \n",
       "d                               -0.050751       0.009878 -0.529954  \n",
       "price_2020                       0.016716       0.016512  0.025775  \n",
       "price_2022                       0.038124       0.027456  0.086881  \n",
       "number_of_reviews_ltm_2020      -0.057437      -0.061067  0.013411  \n",
       "reviews_per_month_2020          -0.019683      -0.022189  0.002405  \n",
       "reviews_per_month_2022          -0.030383      -0.025614  0.012632  \n",
       "visitors_2020                    1.000000       0.962047  0.249574  \n",
       "visitors_2021                    0.962047       1.000000  0.144077  \n",
       "cnt                              0.249574       0.144077  1.000000  "
      ]
     },
     "execution_count": 54,
     "metadata": {},
     "output_type": "execute_result"
    }
   ],
   "source": [
    "df_standardised.corr()"
   ]
  },
  {
   "cell_type": "code",
   "execution_count": 55,
   "id": "93dcc749-fc89-43ef-b4ab-8dc6a2042f33",
   "metadata": {},
   "outputs": [
    {
     "data": {
      "text/plain": [
       "Text(0.5, 1.0, 'Correlation Matrix')"
      ]
     },
     "execution_count": 55,
     "metadata": {},
     "output_type": "execute_result"
    },
    {
     "data": {
      "image/png": "[encoded data removed]",
      "text/plain": [
       "<Figure size 1440x1080 with 2 Axes>"
      ]
     },
     "metadata": {
      "needs_background": "light"
     },
     "output_type": "display_data"
    }
   ],
   "source": [
    "plt.rcParams[\"axes.grid\"] = False\n",
    "f = plt.figure(figsize=(20, 15))\n",
    "plt.matshow(df_standardised.corr(), fignum=f.number)\n",
    "plt.xticks(range(df_standardised.shape[1]), df_standardised.columns, fontsize=20, rotation=90)\n",
    "plt.yticks(range(df_standardised.shape[1]), df_standardised.columns, fontsize=20)\n",
    "cb = plt.colorbar()\n",
    "cb.ax.tick_params(labelsize=20)\n",
    "plt.title('Correlation Matrix', fontsize=35)"
   ]
  },
  {
   "cell_type": "code",
   "execution_count": 56,
   "id": "c7dd2fab-b3d6-480e-bd04-dd767dcf23e3",
   "metadata": {},
   "outputs": [],
   "source": [
    "# delete inf and nan\n",
    "df_standardised[np.isnan(df_standardised)] = 0\n",
    "df_standardised[np.isinf(df_standardised)] = 0"
   ]
  },
  {
   "cell_type": "code",
   "execution_count": 59,
   "id": "8239f160-e22e-402d-8bdf-d47f4c1e6d08",
   "metadata": {},
   "outputs": [
    {
     "name": "stdout",
     "output_type": "stream",
     "text": [
      "                            OLS Regression Results                            \n",
      "==============================================================================\n",
      "Dep. Variable:          visitors_2021   R-squared:                       0.936\n",
      "Model:                            OLS   Adj. R-squared:                  0.935\n",
      "Method:                 Least Squares   F-statistic:                     8042.\n",
      "Date:                Sat, 14 Jan 2023   Prob (F-statistic):               0.00\n",
      "Time:                        16:13:02   Log-Likelihood:                 6655.5\n",
      "No. Observations:                4441   AIC:                        -1.329e+04\n",
      "Df Residuals:                    4432   BIC:                        -1.324e+04\n",
      "Df Model:                           8                                         \n",
      "Covariance Type:            nonrobust                                         \n",
      "==============================================================================================\n",
      "                                 coef    std err          t      P>|t|      [0.025      0.975]\n",
      "----------------------------------------------------------------------------------------------\n",
      "Intercept                      0.0215      0.003      7.534      0.000       0.016       0.027\n",
      "d                              0.0060      0.004      1.574      0.116      -0.001       0.013\n",
      "price_2020                     0.0215      0.030      0.715      0.474      -0.037       0.080\n",
      "price_2022                    -0.0158      0.033     -0.482      0.630      -0.080       0.048\n",
      "number_of_reviews_ltm_2020    -0.0210      0.035     -0.600      0.548      -0.090       0.048\n",
      "reviews_per_month_2020        -0.0324      0.023     -1.383      0.167      -0.078       0.014\n",
      "reviews_per_month_2022         0.0594      0.020      2.902      0.004       0.019       0.100\n",
      "visitors_2020                  0.8050      0.003    248.503      0.000       0.799       0.811\n",
      "cnt                           -0.1003      0.005    -21.042      0.000      -0.110      -0.091\n",
      "==============================================================================\n",
      "Omnibus:                      888.615   Durbin-Watson:                   1.580\n",
      "Prob(Omnibus):                  0.000   Jarque-Bera (JB):            16359.403\n",
      "Skew:                          -0.446   Prob(JB):                         0.00\n",
      "Kurtosis:                      12.360   Cond. No.                         57.6\n",
      "==============================================================================\n",
      "\n",
      "Notes:\n",
      "[1] Standard Errors assume that the covariance matrix of the errors is correctly specified.\n"
     ]
    }
   ],
   "source": [
    "# This performs a multiple regression of expectancy against recycling:\n",
    "\n",
    "reg_visitors_2021 = smf.ols(formula='visitors_2021 ~ d + price_2020 + price_2022 + number_of_reviews_ltm_2020 + reviews_per_month_2020 +reviews_per_month_2022 + visitors_2020 + cnt',data=df_standardised).fit()\n",
    "\n",
    "# And this gives a big summary of the results:\n",
    "print(reg_visitors_2021.summary())"
   ]
  },
  {
   "cell_type": "code",
   "execution_count": null,
   "id": "15fc7edc-d8f5-4583-a07a-d3cbcd902e3d",
   "metadata": {},
   "outputs": [],
   "source": []
  }
 ],
 "metadata": {
  "kernelspec": {
   "display_name": "Python 3 (ipykernel)",
   "language": "python",
   "name": "python3"
  },
  "language_info": {
   "codemirror_mode": {
    "name": "ipython",
    "version": 3
   },
   "file_extension": ".py",
   "mimetype": "text/x-python",
   "name": "python",
   "nbconvert_exporter": "python",
   "pygments_lexer": "ipython3",
   "version": "3.10.5"
  }
 },
 "nbformat": 4,
 "nbformat_minor": 5
}
