{
 "cells": [
  {
   "cell_type": "code",
   "execution_count": 123,
   "id": "75fb7664-7ce8-4e4c-812e-40d1a218f78c",
   "metadata": {},
   "outputs": [],
   "source": [
    "%matplotlib inline\n",
    "\n",
    "import math\n",
    "\n",
    "import matplotlib as mpl\n",
    "import matplotlib.pyplot as plt\n",
    "import numpy as np\n",
    "import pandas as pd\n",
    "import geopandas as gpd\n",
    "\n",
    "import statsmodels.formula.api as smf\n",
    "import statsmodels\n",
    "\n",
    "import seaborn as sn"
   ]
  },
  {
   "cell_type": "code",
   "execution_count": 2,
   "id": "71391221-9926-4a97-a22d-367e23847222",
   "metadata": {},
   "outputs": [],
   "source": [
    "# read in Inside Airbnb dataframe\n",
    "df_2020 = pd.read_csv('2020IA.csv',low_memory=False)\n",
    "df_2022 = pd.read_csv('2022IA.csv',low_memory=False)"
   ]
  },
  {
   "cell_type": "code",
   "execution_count": 3,
   "id": "e2642586-e777-48e5-ae8e-83ead5b7c056",
   "metadata": {},
   "outputs": [
    {
     "name": "stdout",
     "output_type": "stream",
     "text": [
      "        id                         listing_url       scrape_id last_scraped  \\\n",
      "0  11551.0  https://www.airbnb.com/rooms/11551  20200824024753   2020-08-26   \n",
      "1  13913.0  https://www.airbnb.com/rooms/13913  20200824024753   2020-08-27   \n",
      "2  15400.0  https://www.airbnb.com/rooms/15400  20200824024753   2020-08-26   \n",
      "\n",
      "                                         name  \\\n",
      "0  Arty and Bright London Apartment in Zone 2   \n",
      "1         Holiday London DB Room Let-on going   \n",
      "2         Bright Chelsea  Apartment. Chelsea!   \n",
      "\n",
      "                                         description  \\\n",
      "0  Unlike most rental apartments out there my fla...   \n",
      "1  My bright double bedroom with a large window h...   \n",
      "2  Lots of windows and light.  St Luke's Gardens ...   \n",
      "\n",
      "                               neighborhood_overview  \\\n",
      "0  Not even 10 minutes by metro from Victoria Sta...   \n",
      "1  Finsbury Park is a friendly melting pot commun...   \n",
      "2                                     It is Chelsea.   \n",
      "\n",
      "                                         picture_url  host_id  \\\n",
      "0  https://a0.muscache.com/pictures/b7afccf4-18e5...  43039.0   \n",
      "1  https://a0.muscache.com/pictures/ffb507b7-983c...  54730.0   \n",
      "2  https://a0.muscache.com/pictures/428392/462d26...  60302.0   \n",
      "\n",
      "                                  host_url  ... review_scores_communication  \\\n",
      "0  https://www.airbnb.com/users/show/43039  ...                        10.0   \n",
      "1  https://www.airbnb.com/users/show/54730  ...                        10.0   \n",
      "2  https://www.airbnb.com/users/show/60302  ...                        10.0   \n",
      "\n",
      "  review_scores_location review_scores_value license instant_bookable  \\\n",
      "0                    9.0                 9.0     NaN                t   \n",
      "1                    9.0                 9.0     NaN                f   \n",
      "2                   10.0                 9.0     NaN                t   \n",
      "\n",
      "  calculated_host_listings_count calculated_host_listings_count_entire_homes  \\\n",
      "0                            2.0                                         2.0   \n",
      "1                            3.0                                         1.0   \n",
      "2                            1.0                                         1.0   \n",
      "\n",
      "  calculated_host_listings_count_private_rooms  \\\n",
      "0                                          0.0   \n",
      "1                                          2.0   \n",
      "2                                          0.0   \n",
      "\n",
      "  calculated_host_listings_count_shared_rooms reviews_per_month  \n",
      "0                                         0.0              1.51  \n",
      "1                                         0.0              0.17  \n",
      "2                                         0.0              0.68  \n",
      "\n",
      "[3 rows x 74 columns]\n",
      "      id                                   name  host_id host_name  \\\n",
      "0  36299    Kew Gardens 3BR house in cul-de-sac   155938     Geert   \n",
      "1  15400    Bright Chelsea  Apartment. Chelsea!    60302  Philippa   \n",
      "2  17402  Superb 3-Bed/2 Bath & Wifi: Trendy W1    67564       Liz   \n",
      "\n",
      "   neighbourhood_group           neighbourhood  latitude  longitude  \\\n",
      "0                  NaN    Richmond upon Thames  51.48085   -0.28086   \n",
      "1                  NaN  Kensington and Chelsea  51.48780   -0.16813   \n",
      "2                  NaN             Westminster  51.52195   -0.14094   \n",
      "\n",
      "         room_type  price  minimum_nights  number_of_reviews last_review  \\\n",
      "0  Entire home/apt    195               3                 89  2022-03-07   \n",
      "1  Entire home/apt     75               3                 89  2020-03-16   \n",
      "2  Entire home/apt    307               4                 45  2022-01-17   \n",
      "\n",
      "   reviews_per_month  calculated_host_listings_count  availability_365  \\\n",
      "0               0.64                               1               233   \n",
      "1               0.60                               1                 9   \n",
      "2               0.34                               1               213   \n",
      "\n",
      "   number_of_reviews_ltm  license  \n",
      "0                     10      NaN  \n",
      "1                      0      NaN  \n",
      "2                      3      NaN  \n"
     ]
    }
   ],
   "source": [
    "# check some example numbers\n",
    "print(df_2020.head(3))\n",
    "print(df_2022.head(3))"
   ]
  },
  {
   "cell_type": "code",
   "execution_count": 4,
   "id": "1cf28f96-31ea-488c-bf2f-9a40f008cbfc",
   "metadata": {},
   "outputs": [
    {
     "name": "stdout",
     "output_type": "stream",
     "text": [
      "(74188, 74)\n",
      "(66640, 18)\n"
     ]
    }
   ],
   "source": [
    "# print the shape of the DataFrame\n",
    "print(df_2020.shape)\n",
    "print(df_2022.shape)"
   ]
  },
  {
   "cell_type": "code",
   "execution_count": 5,
   "id": "f7c5c75c-8dc4-4de3-81a7-3e7130ab2809",
   "metadata": {},
   "outputs": [
    {
     "name": "stdout",
     "output_type": "stream",
     "text": [
      "Index(['id', 'listing_url', 'scrape_id', 'last_scraped', 'name', 'description',\n",
      "       'neighborhood_overview', 'picture_url', 'host_id', 'host_url',\n",
      "       'host_name', 'host_since', 'host_location', 'host_about',\n",
      "       'host_response_time', 'host_response_rate', 'host_acceptance_rate',\n",
      "       'host_is_superhost', 'host_thumbnail_url', 'host_picture_url',\n",
      "       'host_neighbourhood', 'host_listings_count',\n",
      "       'host_total_listings_count', 'host_verifications',\n",
      "       'host_has_profile_pic', 'host_identity_verified', 'neighbourhood',\n",
      "       'neighbourhood_cleansed', 'neighbourhood_group_cleansed', 'latitude',\n",
      "       'longitude', 'property_type', 'room_type', 'accommodates', 'bathrooms',\n",
      "       'bathrooms_text', 'bedrooms', 'beds', 'amenities', 'price',\n",
      "       'minimum_nights', 'maximum_nights', 'minimum_minimum_nights',\n",
      "       'maximum_minimum_nights', 'minimum_maximum_nights',\n",
      "       'maximum_maximum_nights', 'minimum_nights_avg_ntm',\n",
      "       'maximum_nights_avg_ntm', 'calendar_updated', 'has_availability',\n",
      "       'availability_30', 'availability_60', 'availability_90',\n",
      "       'availability_365', 'calendar_last_scraped', 'number_of_reviews',\n",
      "       'number_of_reviews_ltm', 'number_of_reviews_l30d', 'first_review',\n",
      "       'last_review', 'review_scores_rating', 'review_scores_accuracy',\n",
      "       'review_scores_cleanliness', 'review_scores_checkin',\n",
      "       'review_scores_communication', 'review_scores_location',\n",
      "       'review_scores_value', 'license', 'instant_bookable',\n",
      "       'calculated_host_listings_count',\n",
      "       'calculated_host_listings_count_entire_homes',\n",
      "       'calculated_host_listings_count_private_rooms',\n",
      "       'calculated_host_listings_count_shared_rooms', 'reviews_per_month'],\n",
      "      dtype='object')\n",
      "Index(['id', 'name', 'host_id', 'host_name', 'neighbourhood_group',\n",
      "       'neighbourhood', 'latitude', 'longitude', 'room_type', 'price',\n",
      "       'minimum_nights', 'number_of_reviews', 'last_review',\n",
      "       'reviews_per_month', 'calculated_host_listings_count',\n",
      "       'availability_365', 'number_of_reviews_ltm', 'license'],\n",
      "      dtype='object')\n"
     ]
    }
   ],
   "source": [
    "# print the column names\n",
    "print(df_2020.columns)\n",
    "print(df_2022.columns)"
   ]
  },
  {
   "cell_type": "code",
   "execution_count": 6,
   "id": "9088b5a6-a5d6-4265-9798-f5d09d735494",
   "metadata": {},
   "outputs": [],
   "source": [
    "# pick the columns that we need\n",
    "df_2020_pick = df_2020.loc[:,['id', 'price', 'number_of_reviews_ltm','reviews_per_month']]\n",
    "df_2022_pick = df_2022.loc[:,['id', 'room_type', 'price','longitude', 'latitude', 'minimum_nights', 'reviews_per_month']]"
   ]
  },
  {
   "cell_type": "code",
   "execution_count": 7,
   "id": "68f54050-2c2c-4bc8-a14d-365073acb65e",
   "metadata": {},
   "outputs": [
    {
     "name": "stdout",
     "output_type": "stream",
     "text": [
      "Index(['id', 'price_2020', 'number_of_reviews_ltm_2020',\n",
      "       'reviews_per_month_2020'],\n",
      "      dtype='object')\n",
      "Index(['id', 'room_type', 'price_2022', 'longitude', 'latitude',\n",
      "       'minimum_nights', 'reviews_per_month_2022'],\n",
      "      dtype='object')\n"
     ]
    }
   ],
   "source": [
    "# rename the columns\n",
    "df_2020_rename = df_2020_pick.rename(columns = {'price':'price_2020',\n",
    "                                                'number_of_reviews_ltm':'number_of_reviews_ltm_2020',\n",
    "                                                'reviews_per_month':'reviews_per_month_2020'})\n",
    "df_2022_rename = df_2022_pick.rename(columns = {'price':'price_2022',\n",
    "                                                'reviews_per_month':'reviews_per_month_2022'})\n",
    "print(df_2020_rename.columns)\n",
    "print(df_2022_rename.columns)"
   ]
  },
  {
   "cell_type": "code",
   "execution_count": 8,
   "id": "df700981-b0ed-4dfe-b3c7-429e4bfa0961",
   "metadata": {},
   "outputs": [],
   "source": [
    "# join dataframes\n",
    "df = pd.merge(df_2020_rename, df_2022_rename, how='inner', on=['id'])"
   ]
  },
  {
   "cell_type": "code",
   "execution_count": 9,
   "id": "cb35c2f2-82b5-4240-83b1-744e8a6249e8",
   "metadata": {},
   "outputs": [
    {
     "name": "stdout",
     "output_type": "stream",
     "text": [
      "room_type\n",
      "Entire home/apt    23002\n",
      "Hotel room           252\n",
      "Private room       19790\n",
      "Shared room          353\n",
      "Name: id, dtype: int64\n"
     ]
    }
   ],
   "source": [
    "# compair different room types\n",
    "cnt_room_types = df.groupby('room_type')['id'].count()\n",
    "print(cnt_room_types)"
   ]
  },
  {
   "cell_type": "code",
   "execution_count": 10,
   "id": "03260c70-603f-4839-9195-e9c5a5adb1e7",
   "metadata": {},
   "outputs": [
    {
     "data": {
      "text/plain": [
       "id                            float64\n",
       "price_2020                    float64\n",
       "number_of_reviews_ltm_2020    float64\n",
       "reviews_per_month_2020        float64\n",
       "room_type                      object\n",
       "price_2022                      int64\n",
       "longitude                     float64\n",
       "latitude                      float64\n",
       "minimum_nights                  int64\n",
       "reviews_per_month_2022        float64\n",
       "dtype: object"
      ]
     },
     "execution_count": 10,
     "metadata": {},
     "output_type": "execute_result"
    }
   ],
   "source": [
    "#delete $ and change datatype\n",
    "df['price_2020'] = df['price_2020'].mask(df['price_2020'].str.contains('\\,')==True,df['price_2020'].str.replace(',',''))\n",
    "df['price_2020'] = df['price_2020'].str.split('$').str[1]\n",
    "df['price_2020'] = df['price_2020'].astype('float64')\n",
    "#df['number_of_reviews_ltm_2020'] = df['number_of_reviews_ltm_2020'].astype('float64')\n",
    "#df['reviews_per_month_2020'] = df['reviews_per_month_2020'].astype('float64')\n",
    "df.dtypes"
   ]
  },
  {
   "cell_type": "code",
   "execution_count": 11,
   "id": "4fedac87-e010-47a7-aecd-4362c9ba5c09",
   "metadata": {},
   "outputs": [],
   "source": [
    "# data cleaning\n",
    "df['reviews_per_month_2020'] = np.nan_to_num(df['reviews_per_month_2020'])\n",
    "df['reviews_per_month_2022'] = np.nan_to_num(df['reviews_per_month_2022'])\n",
    "df_cleaned = df[\n",
    "    (df[\"number_of_reviews_ltm_2020\"] != 0) & \n",
    "    (df[\"reviews_per_month_2020\"] != 0) & \n",
    "    (df[\"reviews_per_month_2022\"] != 0) & \n",
    "    (df[\"minimum_nights\"] <= 5)]"
   ]
  },
  {
   "cell_type": "code",
   "execution_count": 12,
   "id": "134ac114-097f-4f50-9cb4-f8796440bf28",
   "metadata": {},
   "outputs": [
    {
     "name": "stderr",
     "output_type": "stream",
     "text": [
      "/tmp/ipykernel_16479/1066492890.py:2: SettingWithCopyWarning: \n",
      "A value is trying to be set on a copy of a slice from a DataFrame.\n",
      "Try using .loc[row_indexer,col_indexer] = value instead\n",
      "\n",
      "See the caveats in the documentation: https://pandas.pydata.org/pandas-docs/stable/user_guide/indexing.html#returning-a-view-versus-a-copy\n",
      "  df_cleaned.loc[:,'price_increase']=(df_cleaned.price_2022 - df_cleaned.price_2020)/df_cleaned.price_2020\n",
      "/tmp/ipykernel_16479/1066492890.py:3: SettingWithCopyWarning: \n",
      "A value is trying to be set on a copy of a slice from a DataFrame.\n",
      "Try using .loc[row_indexer,col_indexer] = value instead\n",
      "\n",
      "See the caveats in the documentation: https://pandas.pydata.org/pandas-docs/stable/user_guide/indexing.html#returning-a-view-versus-a-copy\n",
      "  df_cleaned.loc[:,'reviews_per_month_increase']=(df_cleaned.reviews_per_month_2022 - df_cleaned.reviews_per_month_2020)/df_cleaned.reviews_per_month_2020\n"
     ]
    },
    {
     "data": {
      "text/html": [
       "<div>\n",
       "<style scoped>\n",
       "    .dataframe tbody tr th:only-of-type {\n",
       "        vertical-align: middle;\n",
       "    }\n",
       "\n",
       "    .dataframe tbody tr th {\n",
       "        vertical-align: top;\n",
       "    }\n",
       "\n",
       "    .dataframe thead th {\n",
       "        text-align: right;\n",
       "    }\n",
       "</style>\n",
       "<table border=\"1\" class=\"dataframe\">\n",
       "  <thead>\n",
       "    <tr style=\"text-align: right;\">\n",
       "      <th></th>\n",
       "      <th>id</th>\n",
       "      <th>price_2020</th>\n",
       "      <th>number_of_reviews_ltm_2020</th>\n",
       "      <th>reviews_per_month_2020</th>\n",
       "      <th>room_type</th>\n",
       "      <th>price_2022</th>\n",
       "      <th>longitude</th>\n",
       "      <th>latitude</th>\n",
       "      <th>minimum_nights</th>\n",
       "      <th>reviews_per_month_2022</th>\n",
       "      <th>price_increase</th>\n",
       "      <th>reviews_per_month_increase</th>\n",
       "    </tr>\n",
       "  </thead>\n",
       "  <tbody>\n",
       "    <tr>\n",
       "      <th>0</th>\n",
       "      <td>15400.0</td>\n",
       "      <td>75.0</td>\n",
       "      <td>3.0</td>\n",
       "      <td>0.68</td>\n",
       "      <td>Entire home/apt</td>\n",
       "      <td>75</td>\n",
       "      <td>-0.16813</td>\n",
       "      <td>51.48780</td>\n",
       "      <td>3</td>\n",
       "      <td>0.60</td>\n",
       "      <td>0.000000</td>\n",
       "      <td>-0.117647</td>\n",
       "    </tr>\n",
       "    <tr>\n",
       "      <th>1</th>\n",
       "      <td>17402.0</td>\n",
       "      <td>208.0</td>\n",
       "      <td>1.0</td>\n",
       "      <td>0.37</td>\n",
       "      <td>Entire home/apt</td>\n",
       "      <td>307</td>\n",
       "      <td>-0.14094</td>\n",
       "      <td>51.52195</td>\n",
       "      <td>4</td>\n",
       "      <td>0.34</td>\n",
       "      <td>0.475962</td>\n",
       "      <td>-0.081081</td>\n",
       "    </tr>\n",
       "    <tr>\n",
       "      <th>4</th>\n",
       "      <td>33332.0</td>\n",
       "      <td>65.0</td>\n",
       "      <td>1.0</td>\n",
       "      <td>0.05</td>\n",
       "      <td>Private room</td>\n",
       "      <td>65</td>\n",
       "      <td>-0.32554</td>\n",
       "      <td>51.46416</td>\n",
       "      <td>2</td>\n",
       "      <td>0.09</td>\n",
       "      <td>0.000000</td>\n",
       "      <td>0.800000</td>\n",
       "    </tr>\n",
       "    <tr>\n",
       "      <th>5</th>\n",
       "      <td>36299.0</td>\n",
       "      <td>195.0</td>\n",
       "      <td>4.0</td>\n",
       "      <td>0.64</td>\n",
       "      <td>Entire home/apt</td>\n",
       "      <td>195</td>\n",
       "      <td>-0.28086</td>\n",
       "      <td>51.48085</td>\n",
       "      <td>3</td>\n",
       "      <td>0.64</td>\n",
       "      <td>0.000000</td>\n",
       "      <td>0.000000</td>\n",
       "    </tr>\n",
       "    <tr>\n",
       "      <th>6</th>\n",
       "      <td>36660.0</td>\n",
       "      <td>72.0</td>\n",
       "      <td>19.0</td>\n",
       "      <td>4.36</td>\n",
       "      <td>Private room</td>\n",
       "      <td>72</td>\n",
       "      <td>-0.16057</td>\n",
       "      <td>51.58478</td>\n",
       "      <td>2</td>\n",
       "      <td>3.93</td>\n",
       "      <td>0.000000</td>\n",
       "      <td>-0.098624</td>\n",
       "    </tr>\n",
       "  </tbody>\n",
       "</table>\n",
       "</div>"
      ],
      "text/plain": [
       "        id  price_2020  number_of_reviews_ltm_2020  reviews_per_month_2020  \\\n",
       "0  15400.0        75.0                         3.0                    0.68   \n",
       "1  17402.0       208.0                         1.0                    0.37   \n",
       "4  33332.0        65.0                         1.0                    0.05   \n",
       "5  36299.0       195.0                         4.0                    0.64   \n",
       "6  36660.0        72.0                        19.0                    4.36   \n",
       "\n",
       "         room_type  price_2022  longitude  latitude  minimum_nights  \\\n",
       "0  Entire home/apt          75   -0.16813  51.48780               3   \n",
       "1  Entire home/apt         307   -0.14094  51.52195               4   \n",
       "4     Private room          65   -0.32554  51.46416               2   \n",
       "5  Entire home/apt         195   -0.28086  51.48085               3   \n",
       "6     Private room          72   -0.16057  51.58478               2   \n",
       "\n",
       "   reviews_per_month_2022  price_increase  reviews_per_month_increase  \n",
       "0                    0.60        0.000000                   -0.117647  \n",
       "1                    0.34        0.475962                   -0.081081  \n",
       "4                    0.09        0.000000                    0.800000  \n",
       "5                    0.64        0.000000                    0.000000  \n",
       "6                    3.93        0.000000                   -0.098624  "
      ]
     },
     "execution_count": 12,
     "metadata": {},
     "output_type": "execute_result"
    }
   ],
   "source": [
    "# create new columns\n",
    "df_cleaned.loc[:,'price_increase']=(df_cleaned.price_2022 - df_cleaned.price_2020)/df_cleaned.price_2020\n",
    "df_cleaned.loc[:,'reviews_per_month_increase']=(df_cleaned.reviews_per_month_2022 - df_cleaned.reviews_per_month_2020)/df_cleaned.reviews_per_month_2020\n",
    "df_cleaned.head()"
   ]
  },
  {
   "cell_type": "code",
   "execution_count": 13,
   "id": "9d108840-30ad-4aaa-ab3f-47666f64beff",
   "metadata": {},
   "outputs": [],
   "source": [
    "# data cleaning again\n",
    "df_cleaned2 = df_cleaned[(df_cleaned[\"price_increase\"] != 0)]"
   ]
  },
  {
   "cell_type": "code",
   "execution_count": 14,
   "id": "daff4ab2-9df0-4f51-adb4-21a78c529254",
   "metadata": {},
   "outputs": [
    {
     "name": "stdout",
     "output_type": "stream",
     "text": [
      "   longitude  latitude  price_increase  reviews_per_month_increase\n",
      "0   -0.14094  51.52195        0.475962                   -0.081081\n",
      "1   -0.23345  51.50681        0.068966                   -0.127451\n",
      "2   -0.25632  51.61492        2.121099                   -0.190476\n",
      "3   -0.25568  51.49351        2.571429                   -0.142857\n",
      "4   -0.10204  51.50191        0.144928                   -0.177215\n",
      "longitude                     float64\n",
      "latitude                      float64\n",
      "price_increase                float64\n",
      "reviews_per_month_increase    float64\n",
      "dtype: object\n"
     ]
    }
   ],
   "source": [
    "df_pick = df_cleaned2.loc[:,['longitude', 'latitude', 'price_increase', 'reviews_per_month_increase']]\n",
    "df_pick=df_pick.reset_index(drop=True)\n",
    "print(df_pick.head())\n",
    "print(df_pick.dtypes)"
   ]
  },
  {
   "cell_type": "code",
   "execution_count": 15,
   "id": "269f6022-2a32-4fbb-a766-375e06acf146",
   "metadata": {},
   "outputs": [],
   "source": [
    "# read in London sites dataframe\n",
    "df_sites = pd.read_csv('vva_site_listings_London_2021_02.csv')"
   ]
  },
  {
   "cell_type": "code",
   "execution_count": 16,
   "id": "bf9a1937-fa0f-4064-ac15-a41c9de98e2b",
   "metadata": {},
   "outputs": [
    {
     "name": "stdout",
     "output_type": "stream",
     "text": [
      "Index(['Provider_Product_ID', 'Attraction', 'Region', 'County  ', 'District',\n",
      "       'CRU', 'Category', 'Visitors 2016', 'Visitors 2017', 'Visitors 2018',\n",
      "       'Visitors 2019', 'Visitors 2020', 'Visitors 2021', 'Estimate?',\n",
      "       'Visitor Admission bracket', '% change in admissions 2020 to 2021',\n",
      "       '% change in admissions 2019 to 2021', 'Charging', 'Charge band',\n",
      "       'Longitude', 'Latitude'],\n",
      "      dtype='object')\n"
     ]
    }
   ],
   "source": [
    "# print the column names\n",
    "print(df_sites.columns)"
   ]
  },
  {
   "cell_type": "code",
   "execution_count": 17,
   "id": "683349e7-e26f-4da2-a37a-a466bafee9f8",
   "metadata": {},
   "outputs": [
    {
     "name": "stdout",
     "output_type": "stream",
     "text": [
      "   Longitude   Latitude Visitors 2020 Visitors 2021\n",
      "0  -0.295909  51.479362       1222956    1,963,171 \n",
      "1  -0.176389  51.496111       1296763    1,571,413 \n",
      "2  -0.126944  51.519444       1275466    1,327,120 \n",
      "3  -0.099400  51.507600       1431704    1,156,037 \n",
      "4  -0.117194  51.511028        724310      984,978 \n",
      "Longitude        float64\n",
      "Latitude         float64\n",
      "Visitors 2020     object\n",
      "Visitors 2021     object\n",
      "dtype: object\n"
     ]
    }
   ],
   "source": [
    "# pick the columns that we need\n",
    "df_sites_pick = df_sites.loc[:,['Longitude','Latitude', 'Visitors 2020','Visitors 2021']]\n",
    "print(df_sites_pick.head())\n",
    "print(df_sites_pick.dtypes)"
   ]
  },
  {
   "cell_type": "code",
   "execution_count": 30,
   "id": "c343af80-1209-404f-81ac-71146b61e8b2",
   "metadata": {},
   "outputs": [
    {
     "name": "stdout",
     "output_type": "stream",
     "text": [
      "0    POINT (529075.790 181974.865)\n",
      "1    POINT (522698.676 180132.232)\n",
      "2    POINT (520824.939 192116.667)\n",
      "3    POINT (521191.223 178616.205)\n",
      "4    POINT (531832.196 179815.633)\n",
      "Name: geometry, dtype: geometry\n",
      "0    POINT (518435.241 176977.100)\n",
      "1    POINT (526688.169 179039.579)\n",
      "2    POINT (530053.870 181720.949)\n",
      "3    POINT (531998.990 180453.132)\n",
      "4    POINT (530754.373 180802.421)\n",
      "Name: geometry, dtype: geometry\n"
     ]
    }
   ],
   "source": [
    "#Dealing with Geo Data of sites\n",
    "\n",
    "gdf_houses = gpd.GeoDataFrame(geometry=gpd.points_from_xy(df_pick.longitude, df_pick.latitude, crs='epsg:4326'))\n",
    "gdf_houses = gdf_houses.geometry.to_crs('epsg:27700')\n",
    "print(gdf_houses.head())\n",
    "\n",
    "gdf_sites = gpd.GeoDataFrame(geometry=gpd.points_from_xy(df_sites_pick.Longitude, df_sites_pick.Latitude, crs='epsg:4326'))\n",
    "gdf_sites = gdf_sites.geometry.to_crs('epsg:27700')\n",
    "print(gdf_sites.head())\n"
   ]
  },
  {
   "cell_type": "code",
   "execution_count": null,
   "id": "a7ee7b15-4424-40b5-a51f-14a22ffc9480",
   "metadata": {},
   "outputs": [],
   "source": [
    "def changeencode(data, cols):\n",
    "    for col in cols:\n",
    "        data[col] = data[col].str.decode('iso-8859-1').str.encode('utf-8')\n",
    "    return data   "
   ]
  },
  {
   "cell_type": "code",
   "execution_count": 231,
   "id": "5e9c3056-c096-48f1-b2cb-578b2cdcc1a8",
   "metadata": {},
   "outputs": [
    {
     "name": "stdout",
     "output_type": "stream",
     "text": [
      "0, 41, 1, 517.875515086801\n",
      "0, 41, 1, 517.875515086801\n",
      "0, 41, 1, 517.875515086801\n",
      "0, 41, 1, 517.875515086801\n",
      "0, 51, 2, 434.72255303552487\n",
      "0, 51, 2, 434.72255303552487\n",
      "0, 51, 2, 434.72255303552487\n",
      "0, 51, 2, 434.72255303552487\n",
      "3, 46, 1, 806.8507719670265\n",
      "3, 46, 1, 806.8507719670265\n",
      "3, 46, 1, 806.8507719670265\n",
      "3, 46, 1, 806.8507719670265\n",
      "4, 3, 1, 658.957940551293\n",
      "4, 3, 1, 658.957940551293\n",
      "4, 3, 1, 658.957940551293\n",
      "4, 3, 1, 658.957940551293\n",
      "4, 15, 2, 817.7271626094182\n",
      "4, 15, 2, 817.7271626094182\n",
      "4, 15, 2, 817.7271626094182\n",
      "4, 15, 2, 817.7271626094182\n",
      "4, 17, 3, 761.1158517521242\n",
      "4, 17, 3, 761.1158517521242\n",
      "4, 17, 3, 761.1158517521242\n",
      "4, 17, 3, 761.1158517521242\n",
      "17, 2, 1, 885.7306007105306\n",
      "17, 2, 1, 885.7306007105306\n",
      "17, 2, 1, 885.7306007105306\n",
      "17, 2, 1, 885.7306007105306\n",
      "17, 41, 2, 424.84349400962185\n",
      "17, 41, 2, 424.84349400962185\n",
      "17, 41, 2, 424.84349400962185\n",
      "17, 41, 2, 424.84349400962185\n",
      "17, 51, 3, 306.5679627901606\n",
      "17, 51, 3, 306.5679627901606\n",
      "17, 51, 3, 306.5679627901606\n",
      "17, 51, 3, 306.5679627901606\n",
      "20, 11, 1, 839.5274392173475\n",
      "20, 11, 1, 839.5274392173475\n",
      "20, 11, 1, 839.5274392173475\n",
      "20, 11, 1, 839.5274392173475\n",
      "20, 15, 2, 672.3525688733463\n",
      "20, 15, 2, 672.3525688733463\n",
      "20, 15, 2, 672.3525688733463\n",
      "20, 15, 2, 672.3525688733463\n",
      "22, 2, 1, 938.5941445078886\n",
      "22, 2, 1, 938.5941445078886\n",
      "22, 2, 1, 938.5941445078886\n",
      "22, 2, 1, 938.5941445078886\n",
      "22, 13, 2, 891.7472311380511\n",
      "22, 13, 2, 891.7472311380511\n",
      "22, 13, 2, 891.7472311380511\n",
      "22, 13, 2, 891.7472311380511\n",
      "22, 32, 3, 869.1428956222805\n",
      "22, 32, 3, 869.1428956222805\n",
      "22, 32, 3, 869.1428956222805\n",
      "22, 32, 3, 869.1428956222805\n",
      "30, 15, 1, 522.8489629846395\n",
      "30, 15, 1, 522.8489629846395\n",
      "30, 15, 1, 522.8489629846395\n",
      "30, 15, 1, 522.8489629846395\n",
      "40, 25, 1, 870.8429109612906\n",
      "40, 25, 1, 870.8429109612906\n",
      "40, 25, 1, 870.8429109612906\n",
      "40, 25, 1, 870.8429109612906\n",
      "41, 16, 1, 895.8103546251023\n",
      "41, 16, 1, 895.8103546251023\n",
      "41, 16, 1, 895.8103546251023\n",
      "41, 16, 1, 895.8103546251023\n",
      "41, 31, 2, 916.5646204925335\n",
      "41, 31, 2, 916.5646204925335\n",
      "41, 31, 2, 916.5646204925335\n",
      "41, 31, 2, 916.5646204925335\n",
      "44, 3, 1, 814.5918922212009\n",
      "44, 3, 1, 814.5918922212009\n",
      "44, 3, 1, 814.5918922212009\n",
      "44, 3, 1, 814.5918922212009\n",
      "44, 4, 2, 990.2504159254303\n",
      "44, 4, 2, 990.2504159254303\n",
      "44, 4, 2, 990.2504159254303\n",
      "44, 4, 2, 990.2504159254303\n",
      "44, 15, 3, 868.5546588648418\n",
      "44, 15, 3, 868.5546588648418\n",
      "44, 15, 3, 868.5546588648418\n",
      "44, 15, 3, 868.5546588648418\n",
      "44, 17, 4, 969.9379444369155\n",
      "44, 17, 4, 969.9379444369155\n",
      "44, 17, 4, 969.9379444369155\n",
      "44, 17, 4, 969.9379444369155\n",
      "45, 16, 1, 909.4703767131815\n",
      "45, 16, 1, 909.4703767131815\n",
      "45, 16, 1, 909.4703767131815\n",
      "45, 16, 1, 909.4703767131815\n",
      "45, 32, 2, 883.2631183771441\n",
      "45, 32, 2, 883.2631183771441\n",
      "45, 32, 2, 883.2631183771441\n",
      "45, 32, 2, 883.2631183771441\n",
      "48, 29, 1, 402.5139407430104\n",
      "48, 29, 1, 402.5139407430104\n",
      "48, 29, 1, 402.5139407430104\n",
      "48, 29, 1, 402.5139407430104\n",
      "49, 29, 1, 436.8052335365397\n",
      "49, 29, 1, 436.8052335365397\n",
      "49, 29, 1, 436.8052335365397\n",
      "49, 29, 1, 436.8052335365397\n"
     ]
    }
   ],
   "source": [
    "#for i in range(0,len(gdf_houses)):\n",
    "#def houses_to_sites(i,j):\n",
    "for i in range(0,50):\n",
    "    #(x1,y1) is the coordinate of houses\n",
    "    x1=gdf_houses.x[i]\n",
    "    y1=gdf_houses.y[i]\n",
    "    r=1000 #radius 1km\n",
    "    count=0\n",
    "    for j in range(0,len(gdf_sites)):\n",
    "        #(x2,y2) is the coordinate of sites\n",
    "        x2=gdf_sites.x[j]\n",
    "        y2=gdf_sites.y[j]\n",
    "        d=pow(pow(x1-x2,2)+pow(y1-y2,2),0.5)\n",
    "        if d<r:\n",
    "            count+=1\n",
    "            houses_to_sites=[i, j, count, d]\n",
    "            #k=0\n",
    "            #for house_to_site in houses_to_sites:\n",
    "            #    print(\"{0}, {1}, {2}, {3}\".format(str(houses_to_sites[0]), str(houses_to_sites[1]), str(houses_to_sites[2]), str(houses_to_sites[3])))\n",
    "            #    k = k+1\n",
    "            ##to excel\n",
    "            #houses_to_sites=[i,j,count,d]\n",
    "            #df_houses_to_sites=pd.DataFrame([houses_to_sites],columns = ['house_index', 'site_index', 'count', 'd'])\n",
    "            #with pd.ExcelWriter('test.xlsx') as writer:\n",
    "            #    df_houses_to_sites.to_excel(writer, encoding='utf8', sheet_name='data')\n",
    "        #df_houses_to_sites.to_csv (\"test.csv\",index=0)\n",
    "                #data = pd.DataFrame({'i': i, 'j': j}, index=[0])\n",
    "            #return(df_houses_to_sites)\n",
    "            \n",
    "            #dict={'count':[count], 'x1':[x1], 'y1':[y1],'x2':[x2], 'y1':[y2], 'd':[d]}\n",
    "            #test=test.append(pd.DataFrame({'count':[count], 'x1':[x1], 'y1':[y1],'x2':[x2], 'y1':[y2], 'd':[d]}))\n",
    "            #test=test.append(pd.DataFrame(count,x1,y1,x2,y2,d),ignore_index=True)\n",
    "\n",
    "            #df1 = pd.DataFrame(count,x1,y1,x2,y2,d)\n",
    "            #print(count, x1, y1, x2, y2, d)\n",
    "            #houses_to_sites_tuple=list(zip(count, x1, y1, x2, y2, d))\n",
    "#                houses_to_sites=i,j,count,x1,y1,x2,y2,d\n",
    "#    return houses_to_sites_df = pd.DataFrame(houses_to_sites,axis=0)\n",
    "            #test = pd.DataFrame(houses_to_sites_tuple,columns = ['count', 'x1', 'y1', 'x2', 'y2', 'd'])"
   ]
  },
  {
   "cell_type": "code",
   "execution_count": 56,
   "id": "cde7831e-b598-4f34-9a4f-e007aa6d51d2",
   "metadata": {},
   "outputs": [
    {
     "ename": "ValueError",
     "evalue": "Shape of passed values is (6, 1), indices imply (6, 6)",
     "output_type": "error",
     "traceback": [
      "\u001b[0;31m---------------------------------------------------------------------------\u001b[0m",
      "\u001b[0;31mValueError\u001b[0m                                Traceback (most recent call last)",
      "Input \u001b[0;32mIn [56]\u001b[0m, in \u001b[0;36m<cell line: 1>\u001b[0;34m()\u001b[0m\n\u001b[0;32m----> 1\u001b[0m df_houses_to_sites \u001b[38;5;241m=\u001b[39m \u001b[43mpd\u001b[49m\u001b[38;5;241;43m.\u001b[39;49m\u001b[43mDataFrame\u001b[49m\u001b[43m(\u001b[49m\u001b[43mhouses_to_sites\u001b[49m\u001b[43m,\u001b[49m\u001b[43m \u001b[49m\u001b[43mcolumns\u001b[49m\u001b[43m \u001b[49m\u001b[38;5;241;43m=\u001b[39;49m\u001b[43m \u001b[49m\u001b[43m[\u001b[49m\u001b[38;5;124;43m'\u001b[39;49m\u001b[38;5;124;43mcount\u001b[39;49m\u001b[38;5;124;43m'\u001b[39;49m\u001b[43m,\u001b[49m\u001b[43m \u001b[49m\u001b[38;5;124;43m'\u001b[39;49m\u001b[38;5;124;43mx1\u001b[39;49m\u001b[38;5;124;43m'\u001b[39;49m\u001b[43m,\u001b[49m\u001b[43m \u001b[49m\u001b[38;5;124;43m'\u001b[39;49m\u001b[38;5;124;43my1\u001b[39;49m\u001b[38;5;124;43m'\u001b[39;49m\u001b[43m,\u001b[49m\u001b[43m \u001b[49m\u001b[38;5;124;43m'\u001b[39;49m\u001b[38;5;124;43mx2\u001b[39;49m\u001b[38;5;124;43m'\u001b[39;49m\u001b[43m,\u001b[49m\u001b[43m \u001b[49m\u001b[38;5;124;43m'\u001b[39;49m\u001b[38;5;124;43my2\u001b[39;49m\u001b[38;5;124;43m'\u001b[39;49m\u001b[43m,\u001b[49m\u001b[43m \u001b[49m\u001b[38;5;124;43m'\u001b[39;49m\u001b[38;5;124;43md\u001b[39;49m\u001b[38;5;124;43m'\u001b[39;49m\u001b[43m]\u001b[49m\u001b[43m)\u001b[49m\n\u001b[1;32m      2\u001b[0m \u001b[38;5;28mprint\u001b[39m(df_houses_to_sites\u001b[38;5;241m.\u001b[39mhead())\n",
      "File \u001b[0;32m/opt/conda/lib/python3.10/site-packages/pandas/core/frame.py:737\u001b[0m, in \u001b[0;36mDataFrame.__init__\u001b[0;34m(self, data, index, columns, dtype, copy)\u001b[0m\n\u001b[1;32m    729\u001b[0m         mgr \u001b[38;5;241m=\u001b[39m arrays_to_mgr(\n\u001b[1;32m    730\u001b[0m             arrays,\n\u001b[1;32m    731\u001b[0m             columns,\n\u001b[0;32m   (...)\u001b[0m\n\u001b[1;32m    734\u001b[0m             typ\u001b[38;5;241m=\u001b[39mmanager,\n\u001b[1;32m    735\u001b[0m         )\n\u001b[1;32m    736\u001b[0m     \u001b[38;5;28;01melse\u001b[39;00m:\n\u001b[0;32m--> 737\u001b[0m         mgr \u001b[38;5;241m=\u001b[39m \u001b[43mndarray_to_mgr\u001b[49m\u001b[43m(\u001b[49m\n\u001b[1;32m    738\u001b[0m \u001b[43m            \u001b[49m\u001b[43mdata\u001b[49m\u001b[43m,\u001b[49m\n\u001b[1;32m    739\u001b[0m \u001b[43m            \u001b[49m\u001b[43mindex\u001b[49m\u001b[43m,\u001b[49m\n\u001b[1;32m    740\u001b[0m \u001b[43m            \u001b[49m\u001b[43mcolumns\u001b[49m\u001b[43m,\u001b[49m\n\u001b[1;32m    741\u001b[0m \u001b[43m            \u001b[49m\u001b[43mdtype\u001b[49m\u001b[38;5;241;43m=\u001b[39;49m\u001b[43mdtype\u001b[49m\u001b[43m,\u001b[49m\n\u001b[1;32m    742\u001b[0m \u001b[43m            \u001b[49m\u001b[43mcopy\u001b[49m\u001b[38;5;241;43m=\u001b[39;49m\u001b[43mcopy\u001b[49m\u001b[43m,\u001b[49m\n\u001b[1;32m    743\u001b[0m \u001b[43m            \u001b[49m\u001b[43mtyp\u001b[49m\u001b[38;5;241;43m=\u001b[39;49m\u001b[43mmanager\u001b[49m\u001b[43m,\u001b[49m\n\u001b[1;32m    744\u001b[0m \u001b[43m        \u001b[49m\u001b[43m)\u001b[49m\n\u001b[1;32m    745\u001b[0m \u001b[38;5;28;01melse\u001b[39;00m:\n\u001b[1;32m    746\u001b[0m     mgr \u001b[38;5;241m=\u001b[39m dict_to_mgr(\n\u001b[1;32m    747\u001b[0m         {},\n\u001b[1;32m    748\u001b[0m         index,\n\u001b[0;32m   (...)\u001b[0m\n\u001b[1;32m    751\u001b[0m         typ\u001b[38;5;241m=\u001b[39mmanager,\n\u001b[1;32m    752\u001b[0m     )\n",
      "File \u001b[0;32m/opt/conda/lib/python3.10/site-packages/pandas/core/internals/construction.py:351\u001b[0m, in \u001b[0;36mndarray_to_mgr\u001b[0;34m(values, index, columns, dtype, copy, typ)\u001b[0m\n\u001b[1;32m    346\u001b[0m \u001b[38;5;66;03m# _prep_ndarray ensures that values.ndim == 2 at this point\u001b[39;00m\n\u001b[1;32m    347\u001b[0m index, columns \u001b[38;5;241m=\u001b[39m _get_axes(\n\u001b[1;32m    348\u001b[0m     values\u001b[38;5;241m.\u001b[39mshape[\u001b[38;5;241m0\u001b[39m], values\u001b[38;5;241m.\u001b[39mshape[\u001b[38;5;241m1\u001b[39m], index\u001b[38;5;241m=\u001b[39mindex, columns\u001b[38;5;241m=\u001b[39mcolumns\n\u001b[1;32m    349\u001b[0m )\n\u001b[0;32m--> 351\u001b[0m \u001b[43m_check_values_indices_shape_match\u001b[49m\u001b[43m(\u001b[49m\u001b[43mvalues\u001b[49m\u001b[43m,\u001b[49m\u001b[43m \u001b[49m\u001b[43mindex\u001b[49m\u001b[43m,\u001b[49m\u001b[43m \u001b[49m\u001b[43mcolumns\u001b[49m\u001b[43m)\u001b[49m\n\u001b[1;32m    353\u001b[0m \u001b[38;5;28;01mif\u001b[39;00m typ \u001b[38;5;241m==\u001b[39m \u001b[38;5;124m\"\u001b[39m\u001b[38;5;124marray\u001b[39m\u001b[38;5;124m\"\u001b[39m:\n\u001b[1;32m    355\u001b[0m     \u001b[38;5;28;01mif\u001b[39;00m \u001b[38;5;28missubclass\u001b[39m(values\u001b[38;5;241m.\u001b[39mdtype\u001b[38;5;241m.\u001b[39mtype, \u001b[38;5;28mstr\u001b[39m):\n",
      "File \u001b[0;32m/opt/conda/lib/python3.10/site-packages/pandas/core/internals/construction.py:422\u001b[0m, in \u001b[0;36m_check_values_indices_shape_match\u001b[0;34m(values, index, columns)\u001b[0m\n\u001b[1;32m    420\u001b[0m passed \u001b[38;5;241m=\u001b[39m values\u001b[38;5;241m.\u001b[39mshape\n\u001b[1;32m    421\u001b[0m implied \u001b[38;5;241m=\u001b[39m (\u001b[38;5;28mlen\u001b[39m(index), \u001b[38;5;28mlen\u001b[39m(columns))\n\u001b[0;32m--> 422\u001b[0m \u001b[38;5;28;01mraise\u001b[39;00m \u001b[38;5;167;01mValueError\u001b[39;00m(\u001b[38;5;124mf\u001b[39m\u001b[38;5;124m\"\u001b[39m\u001b[38;5;124mShape of passed values is \u001b[39m\u001b[38;5;132;01m{\u001b[39;00mpassed\u001b[38;5;132;01m}\u001b[39;00m\u001b[38;5;124m, indices imply \u001b[39m\u001b[38;5;132;01m{\u001b[39;00mimplied\u001b[38;5;132;01m}\u001b[39;00m\u001b[38;5;124m\"\u001b[39m)\n",
      "\u001b[0;31mValueError\u001b[0m: Shape of passed values is (6, 1), indices imply (6, 6)"
     ]
    }
   ],
   "source": [
    "df_houses_to_sites = pd.DataFrame(houses_to_sites, columns = ['count', 'x1', 'y1', 'x2', 'y2', 'd'])\n",
    "print(df_houses_to_sites.head())"
   ]
  },
  {
   "cell_type": "code",
   "execution_count": 48,
   "id": "15f3e52a-e06d-4f24-adc1-6a9cf305c99a",
   "metadata": {},
   "outputs": [
    {
     "ename": "AttributeError",
     "evalue": "'list' object has no attribute 'groupby'",
     "output_type": "error",
     "traceback": [
      "\u001b[0;31m---------------------------------------------------------------------------\u001b[0m",
      "\u001b[0;31mAttributeError\u001b[0m                            Traceback (most recent call last)",
      "Input \u001b[0;32mIn [48]\u001b[0m, in \u001b[0;36m<cell line: 8>\u001b[0;34m()\u001b[0m\n\u001b[1;32m      6\u001b[0m \u001b[38;5;66;03m# add columns\u001b[39;00m\n\u001b[1;32m      7\u001b[0m data\u001b[38;5;241m.\u001b[39mcolumns \u001b[38;5;241m=\u001b[39m [\u001b[38;5;124m'\u001b[39m\u001b[38;5;124mcount\u001b[39m\u001b[38;5;124m'\u001b[39m, \u001b[38;5;124m'\u001b[39m\u001b[38;5;124mx1\u001b[39m\u001b[38;5;124m'\u001b[39m, \u001b[38;5;124m'\u001b[39m\u001b[38;5;124my1\u001b[39m\u001b[38;5;124m'\u001b[39m,\u001b[38;5;124m'\u001b[39m\u001b[38;5;124mx2\u001b[39m\u001b[38;5;124m'\u001b[39m, \u001b[38;5;124m'\u001b[39m\u001b[38;5;124my2\u001b[39m\u001b[38;5;124m'\u001b[39m, \u001b[38;5;124m'\u001b[39m\u001b[38;5;124md\u001b[39m\u001b[38;5;124m'\u001b[39m]\n\u001b[0;32m----> 8\u001b[0m data1 \u001b[38;5;241m=\u001b[39m \u001b[43mhouses_to_sites\u001b[49m\u001b[38;5;241;43m.\u001b[39;49m\u001b[43mgroupby\u001b[49m(\u001b[38;5;124m'\u001b[39m\u001b[38;5;124mcount\u001b[39m\u001b[38;5;124m'\u001b[39m)\u001b[38;5;241m.\u001b[39mapply(\u001b[38;5;28;01mlambda\u001b[39;00m t: t[(t[\u001b[38;5;124m'\u001b[39m\u001b[38;5;124md\u001b[39m\u001b[38;5;124m'\u001b[39m]\u001b[38;5;241m==\u001b[39mt[\u001b[38;5;124m'\u001b[39m\u001b[38;5;124md\u001b[39m\u001b[38;5;124m'\u001b[39m]\u001b[38;5;241m.\u001b[39mmin()) \u001b[38;5;241m^\u001b[39m (t[\u001b[38;5;124m'\u001b[39m\u001b[38;5;124mgrade\u001b[39m\u001b[38;5;124m'\u001b[39m]\u001b[38;5;241m==\u001b[39mt[\u001b[38;5;124m'\u001b[39m\u001b[38;5;124mgrade\u001b[39m\u001b[38;5;124m'\u001b[39m]\u001b[38;5;241m.\u001b[39mmax())])\n",
      "\u001b[0;31mAttributeError\u001b[0m: 'list' object has no attribute 'groupby'"
     ]
    }
   ],
   "source": [
    "#            houses_to_sites = pd.DataFrame(list(zip(count,x1,y1,x2,y2,d)),\n",
    "#                                           columns=['count', 'x1', 'y1', 'x2', 'y2', 'd'])\n",
    "# convert the list into dataframe row\n",
    "houses_to_sites.to_excel\n",
    "data = pd.DataFrame(houses_to_sites).T\n",
    " \n",
    "# add columns\n",
    "data.columns = ['count', 'x1', 'y1','x2', 'y2', 'd']\n",
    "data1 = houses_to_sites.groupby('count').apply(lambda t: t[(t['d']==t['d'].min()) ^ (t['grade']==t['grade'].max())])"
   ]
  },
  {
   "cell_type": "code",
   "execution_count": null,
   "id": "4125924e-14b0-4d9c-8133-69382a523a71",
   "metadata": {},
   "outputs": [],
   "source": []
  }
 ],
 "metadata": {
  "kernelspec": {
   "display_name": "Python 3 (ipykernel)",
   "language": "python",
   "name": "python3"
  },
  "language_info": {
   "codemirror_mode": {
    "name": "ipython",
    "version": 3
   },
   "file_extension": ".py",
   "mimetype": "text/x-python",
   "name": "python",
   "nbconvert_exporter": "python",
   "pygments_lexer": "ipython3",
   "version": "3.10.5"
  }
 },
 "nbformat": 4,
 "nbformat_minor": 5
}
